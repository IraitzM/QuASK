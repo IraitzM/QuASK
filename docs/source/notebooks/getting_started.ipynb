{
 "cells": [
  {
   "cell_type": "markdown",
   "id": "42bef169-944b-41b7-84e8-f41e6f9d62cc",
   "metadata": {},
   "source": [
    "# Getting started"
   ]
  },
  {
   "cell_type": "markdown",
   "id": "00653702-d41a-41e8-a813-4f9c9b9aed1c",
   "metadata": {},
   "source": [
    "Are you curious to know if _quask_ is the right library for your project? Here is a quick and straightforward guide on how to get started using this tool. We will see:\n",
    "\n",
    "1. how to quickly install the framework;\n",
    "2. what are the main components of _quask_ and how to use them; \n",
    "3. how to solve a toy classification problem using quantum kernels via the _quask_ application programming interface.\n"
   ]
  },
  {
   "cell_type": "raw",
   "id": "6e14567c-28c2-4e86-9940-6e6a9842496c",
   "metadata": {},
   "source": [
    ".. warning::\n",
    "\n",
    "    This first tutorial illustrates the functionalities of the framework. It presumes a pre-existing knowledge of kernel methods and quantum computing. For a more beginner's level introduction, take a look at the `Intro to classical kernels <tutorials_classical/index.html>`__ page. "
   ]
  },
  {
   "cell_type": "markdown",
   "id": "76b42334-4f31-4391-8053-96bdac09d770",
   "metadata": {},
   "source": [
    "## Fast installation\n",
    "\n",
    "The easiest way to use _quask_ is by installing it in your Python3 environment (version >= 3.10) via the _pip_ packet manager,\n",
    "\n",
    "```py\n",
    "!python3 -m pip install quask==2.0.0-alpha2\n",
    "```"
   ]
  },
  {
   "cell_type": "markdown",
   "id": "8ad60ede-fcb9-44ad-859f-15a03b045091",
   "metadata": {},
   "source": [
    "Quask will also include some extra dependencies like Qiskit or Pennylane. You can check if the installation has been successful by running the command:"
   ]
  },
  {
   "cell_type": "code",
   "execution_count": 1,
   "id": "ab3dc1db-c3ec-41d3-be46-7d9ccafe4b6f",
   "metadata": {},
   "outputs": [
    {
     "name": "stdout",
     "output_type": "stream",
     "text": [
      "2.0.0-alpha2\n"
     ]
    }
   ],
   "source": [
    "import quask\n",
    "\n",
    "print(quask.__version__)"
   ]
  },
  {
   "cell_type": "markdown",
   "id": "5cc35daa-bdd8-47c4-bf87-6921acdbe66b",
   "metadata": {},
   "source": [
    "In this way, _quask_ has been started as a standalone application, meaning it can be used via the command line without the need for coding. This modality is explored in depth later."
   ]
  },
  {
   "cell_type": "markdown",
   "id": "f402ee7a-93a5-4a5e-b6fe-4d5e911f9a62",
   "metadata": {},
   "source": [
    "## Hello world, quantum kernels!\n"
   ]
  },
  {
   "cell_type": "code",
   "execution_count": 2,
   "id": "8558acef-bd9e-465a-a042-43f951474b9f",
   "metadata": {},
   "outputs": [],
   "source": [
    "import numpy as np\n",
    "\n",
    "from quask.core import Ansatz, KernelFactory, KernelType"
   ]
  },
  {
   "cell_type": "markdown",
   "id": "7d524a70-c7d2-4c27-b218-b1a5e5206761",
   "metadata": {},
   "source": [
    "Here, we can see the main objects of _quask_. The class `Ansatz` represents the function that maps classical data to the Hilbert space of the quantum system using a parametric quantum circuit. This class is parameterized by the number of qubits in the underlying quantum circuit, which often corresponds to the number of features (although it's not a strict rule), the number of gates applied to the quantum circuit, and the number of features that the classical data point has.\n",
    "\n",
    "The class `Kernel` represents a kernel object, which is essentially an ansatz along with additional information on how to effectively implement the quantum circuit for the entire procedure. The kernel object must be executed using one of the available backends (Qiskit, Pennylane, Qibo, etc.). To achieve this, the kernel class has been designed as an abstract object, meaning it cannot be used directly. Instead, we can use one of its subclasses, with each subclass interfacing with a particular backend. We can instantiate the concrete (non-abstract) kernel objects using the `KernelFactory` class.\n",
    "\n",
    "Since there are several ways to design a quantum kernel using a single ansatz, the `KernelType` class is an enumeration whose values indicate the kind of kernel to be implemented."
   ]
  },
  {
   "cell_type": "code",
   "execution_count": 3,
   "id": "1e8e3d9d-9b2d-47ff-b794-e8b93b6de691",
   "metadata": {},
   "outputs": [],
   "source": [
    "# Number of features in the data point to be mapped in the Hilbert space of the quantum system\n",
    "N_FEATURES = 1\n",
    "\n",
    "# Number of gates applied to the quantum circuit\n",
    "N_OPERATIONS = 1\n",
    "\n",
    "# Number of qubits of the quantum circuit\n",
    "N_QUBITS = 2\n",
    "\n",
    "# Ansatz object, representing the feature map\n",
    "ansatz = Ansatz(n_features=N_FEATURES, n_qubits=N_QUBITS, n_operations=N_OPERATIONS)"
   ]
  },
  {
   "cell_type": "markdown",
   "id": "084113fe-1a32-47b9-a8f5-dccdace1a3ea",
   "metadata": {},
   "source": [
    "The ansatz class is not immediately usable when instantiated. It needs to be initialized so that all its operations correspond to valid gates, in this case, corresponding to the identity."
   ]
  },
  {
   "cell_type": "code",
   "execution_count": 4,
   "id": "b8ff120f-fad9-4f25-9789-ca1cc5f5dc0d",
   "metadata": {},
   "outputs": [],
   "source": [
    "ansatz.initialize_to_identity()"
   ]
  },
  {
   "cell_type": "markdown",
   "id": "18050fd3-2594-4a77-bdc9-9e6028ead0ba",
   "metadata": {},
   "source": [
    "Each operation acts on two qubits and is defined as\n",
    "$$U(\\beta \\theta) = \\exp(-i \\beta \\frac{\\theta}{2} \\sigma_1 \\sigma_2),$$\n",
    "where the generators $\\sigma_1$ and $\\sigma_2$ correspond to the Pauli matrices $X, Y, Z$, and $\\mathrm{Id}$. When one of these generators is the identity, the gate effectively applies nontrivially to a single qubit.\n",
    "\n",
    "All the gates are parameterized by a single real-valued parameter, $\\theta$, which can optionally be rescaled by a global scaling parameter $0 < \\beta < 1$. We can characterize each parametric gate by the following:\n",
    "\n",
    "* The feature that parameterizes the rotation, with $0 \\le f \\le N\\_FEATURES - 1$, or the constant feature $1$. The constant features allow us to construct non-parameterized gates.\n",
    "* A pair of generators, represented by a 2-character string.\n",
    "* The qubits on which the operation acts, denoted as $(q_1, q_2)$, where $0 \\le q_i < N\\_QUBITS$, and $q_1 \\neq q_2$. For 'single-qubit gates' with the identity as one or both generators, the qubit on which the identity is applied has a negligible effect on the transformation.\n",
    "* The scaling parameter $\\beta$."
   ]
  },
  {
   "cell_type": "code",
   "execution_count": 5,
   "id": "bf968d0d-eb19-4397-b868-1ae541c83dbc",
   "metadata": {},
   "outputs": [],
   "source": [
    "ansatz.change_operation(0, new_feature=0, new_wires=[0, 1], new_generator=\"XX\", new_bandwidth=0.9)"
   ]
  },
  {
   "cell_type": "markdown",
   "id": "93175ce7-e709-4630-a8c1-4c23f6f7f4ee",
   "metadata": {},
   "source": [
    "The ansatz serves as the feature map for our quantum kernel. To calculate kernel values, however, we have the opportunity to specify the method of calculation. This can be done using the fidelity test or by computing the expectation value of some observable. Additionally, we need to specify the backend to be used.\n",
    "\n",
    "Currently, we support Qiskit, Pennylane, and Braket. More detailed information is available at the [Backends in quask](tutorials_quask/quask_0_backends.html) tutorial. Here, we suppose to use Qiskit as a backend, which has to be installed separately. To create the commonly used fidelity kernel, we provide the ansatz, the basis on which we will perform the measurement (typically the computational basis), and the type of kernel."
   ]
  },
  {
   "cell_type": "code",
   "execution_count": 6,
   "id": "07a93cfe-43a8-42fa-9fc8-ab1088a420e9",
   "metadata": {},
   "outputs": [],
   "source": [
    "from quask.core_implementation import QiskitKernel\n",
    "\n",
    "kernel = QiskitKernel(ansatz, \"Z\" * N_QUBITS, KernelType.FIDELITY)"
   ]
  },
  {
   "cell_type": "markdown",
   "id": "0ba55553-6ef2-4508-bd39-529008816550",
   "metadata": {},
   "source": [
    "To test if the kernel object function correctly we can call the kernel function on a pair of data point."
   ]
  },
  {
   "cell_type": "code",
   "execution_count": 7,
   "id": "814ee677-5dd0-400f-b9d0-3e6eaae1d357",
   "metadata": {},
   "outputs": [
    {
     "name": "stdout",
     "output_type": "stream",
     "text": [
      "The kernel value between x1 and x2 is 0.82470703125\n"
     ]
    }
   ],
   "source": [
    "x1 = np.array([0.001])\n",
    "x2 = np.array([0.999])\n",
    "similarity = kernel.kappa(x1, x2)\n",
    "print(\"The kernel value between x1 and x2 is\", similarity)"
   ]
  },
  {
   "cell_type": "markdown",
   "id": "bc790ee8",
   "metadata": {},
   "source": [
    "If you execute the above cell repeatedly you can see that the similarity value changes. This is due to the fact that the `QiskitKernel` class was instantiated with a default value of number of shots equals to $2048$."
   ]
  },
  {
   "cell_type": "markdown",
   "id": "f7f41599-ae05-48e6-8045-6dd5da419d48",
   "metadata": {},
   "source": [
    "We can decouple the actual backend used from the high-level APIs. The decoupling is managed by the `KernelFactory` class.  to the `create_kernel` method. To use the `KernelFactory` class, you first have to set up which backend are you using. "
   ]
  },
  {
   "cell_type": "code",
   "execution_count": 8,
   "id": "d177df5e-8218-47cc-94b8-2184181b06bd",
   "metadata": {},
   "outputs": [],
   "source": [
    "def create_qiskit_noiseless(ansatz: Ansatz, measurement: str, type: KernelType):\n",
    "    return QiskitKernel(ansatz, measurement, type, platform = \"infty_shots\")\n",
    "\n",
    "# if you have already added the implementation comment the line below and set the current implementation\n",
    "KernelFactory.add_implementation('qiskit_noiseless', create_qiskit_noiseless)\n",
    "KernelFactory.set_current_implementation('qiskit_noiseless')\n",
    "kernel = KernelFactory.create_kernel(ansatz, \"Z\" * N_QUBITS, KernelType.FIDELITY) # QiskitKernel"
   ]
  },
  {
   "cell_type": "markdown",
   "id": "7a7d5049",
   "metadata": {},
   "source": [
    "If we now repeat the above test with arbitrary features we can see a constant value of the similarity since we are using a kernel with an infinite number of shots. "
   ]
  },
  {
   "cell_type": "code",
   "execution_count": 9,
   "id": "c82fabc9",
   "metadata": {},
   "outputs": [
    {
     "name": "stdout",
     "output_type": "stream",
     "text": [
      "The kernel value between x1 and x2 is 0.9008382065994768\n"
     ]
    }
   ],
   "source": [
    "x1 = np.array([0.001])\n",
    "x2 = np.array([0.999])\n",
    "similarity = kernel.kappa(x1, x2)\n",
    "print(\"The kernel value between x1 and x2 is\", similarity)"
   ]
  },
  {
   "cell_type": "markdown",
   "id": "d26baa0c-56f6-46b0-9e24-585abc5f1dfe",
   "metadata": {},
   "source": [
    "## Solve the iris dataset classification using _quask_"
   ]
  },
  {
   "cell_type": "markdown",
   "id": "8955d04c-497a-4771-afcf-5b8a4c66fa7c",
   "metadata": {},
   "source": [
    "We demonstrate how to integrate _quask_ into a machine learning pipeline based on the library [scikit-learn](https://scikit-learn.org/stable). This package allows us to effortlessly set up a toy classification problem that can be solved using kernel machines with quantum kernels.\n"
   ]
  },
  {
   "cell_type": "code",
   "execution_count": 10,
   "id": "0eda078b-a07a-463a-99c7-fdb1a888ac78",
   "metadata": {},
   "outputs": [],
   "source": [
    "from sklearn.datasets import load_iris\n",
    "from sklearn.svm import SVC\n",
    "from sklearn.model_selection import train_test_split\n",
    "from sklearn.preprocessing import StandardScaler\n",
    "import numpy as np"
   ]
  },
  {
   "cell_type": "markdown",
   "id": "9e528fa6-0568-4d04-8b2c-290826ac1a26",
   "metadata": {},
   "source": [
    "First, we load the dataset. It can be retrieved directly from the Python package of scikit-learn.\n",
    "\n",
    "It contains 150 samples associated with the three different subspecies of the Iris flower, with 50 samples for each subspecies. To simplify the task, we classify only the first two classes and select 10 samples for each class.\n",
    "\n",
    "Each sample has 4 real features.\n"
   ]
  },
  {
   "cell_type": "code",
   "execution_count": 11,
   "id": "04903893-8c56-495b-b7e3-c866e2221533",
   "metadata": {},
   "outputs": [],
   "source": [
    "N_ELEMENTS_PER_CLASS = 10\n",
    "iris = load_iris()\n",
    "X = np.vstack([iris.data[0:N_ELEMENTS_PER_CLASS], iris.data[50:50+N_ELEMENTS_PER_CLASS]])\n",
    "y = np.array([0] * N_ELEMENTS_PER_CLASS + [1] * N_ELEMENTS_PER_CLASS)"
   ]
  },
  {
   "cell_type": "markdown",
   "id": "87ed0d0b-9d5e-4f02-8ad8-c500951b68e9",
   "metadata": {},
   "source": [
    "We preprocess our data and divide the dataset in training and testing set."
   ]
  },
  {
   "cell_type": "code",
   "execution_count": 12,
   "id": "c8860146-d5d5-4b2d-90e0-d5f77e342578",
   "metadata": {},
   "outputs": [],
   "source": [
    "# Standardize the features\n",
    "scaler = StandardScaler()\n",
    "X = scaler.fit_transform(X)\n",
    "\n",
    "# Split the data into training and testing sets\n",
    "X_train, X_test, y_train, y_test = train_test_split(X, y, test_size=0.5, random_state=5454)"
   ]
  },
  {
   "cell_type": "markdown",
   "id": "cbc4df54-4e2c-4765-959b-af7409f17cb2",
   "metadata": {},
   "source": [
    "We then define the machine learning model to solve the classification task. Among the possibilities, we choose the Support Vector Machine. In order to use the quantum kernel, we specify we will give the kernel machine the kernel Gram matrix instead of the original features, by using the precomputed option. "
   ]
  },
  {
   "cell_type": "code",
   "execution_count": 13,
   "id": "8269657d-cc87-457e-bcd3-8c799be57dcd",
   "metadata": {},
   "outputs": [],
   "source": [
    "# Instantiate a machine learning model\n",
    "model = SVC(kernel='precomputed')"
   ]
  },
  {
   "cell_type": "markdown",
   "id": "c5c250f5-5054-41c0-8836-61db77306db2",
   "metadata": {},
   "source": [
    "We then calculate the kernel Gram matrices and train the model. "
   ]
  },
  {
   "cell_type": "code",
   "execution_count": 14,
   "id": "a739941b-20fb-402b-936f-44e7b8758e2f",
   "metadata": {},
   "outputs": [
    {
     "data": {
      "text/html": [
       "<style>#sk-container-id-1 {\n",
       "  /* Definition of color scheme common for light and dark mode */\n",
       "  --sklearn-color-text: #000;\n",
       "  --sklearn-color-text-muted: #666;\n",
       "  --sklearn-color-line: gray;\n",
       "  /* Definition of color scheme for unfitted estimators */\n",
       "  --sklearn-color-unfitted-level-0: #fff5e6;\n",
       "  --sklearn-color-unfitted-level-1: #f6e4d2;\n",
       "  --sklearn-color-unfitted-level-2: #ffe0b3;\n",
       "  --sklearn-color-unfitted-level-3: chocolate;\n",
       "  /* Definition of color scheme for fitted estimators */\n",
       "  --sklearn-color-fitted-level-0: #f0f8ff;\n",
       "  --sklearn-color-fitted-level-1: #d4ebff;\n",
       "  --sklearn-color-fitted-level-2: #b3dbfd;\n",
       "  --sklearn-color-fitted-level-3: cornflowerblue;\n",
       "\n",
       "  /* Specific color for light theme */\n",
       "  --sklearn-color-text-on-default-background: var(--sg-text-color, var(--theme-code-foreground, var(--jp-content-font-color1, black)));\n",
       "  --sklearn-color-background: var(--sg-background-color, var(--theme-background, var(--jp-layout-color0, white)));\n",
       "  --sklearn-color-border-box: var(--sg-text-color, var(--theme-code-foreground, var(--jp-content-font-color1, black)));\n",
       "  --sklearn-color-icon: #696969;\n",
       "\n",
       "  @media (prefers-color-scheme: dark) {\n",
       "    /* Redefinition of color scheme for dark theme */\n",
       "    --sklearn-color-text-on-default-background: var(--sg-text-color, var(--theme-code-foreground, var(--jp-content-font-color1, white)));\n",
       "    --sklearn-color-background: var(--sg-background-color, var(--theme-background, var(--jp-layout-color0, #111)));\n",
       "    --sklearn-color-border-box: var(--sg-text-color, var(--theme-code-foreground, var(--jp-content-font-color1, white)));\n",
       "    --sklearn-color-icon: #878787;\n",
       "  }\n",
       "}\n",
       "\n",
       "#sk-container-id-1 {\n",
       "  color: var(--sklearn-color-text);\n",
       "}\n",
       "\n",
       "#sk-container-id-1 pre {\n",
       "  padding: 0;\n",
       "}\n",
       "\n",
       "#sk-container-id-1 input.sk-hidden--visually {\n",
       "  border: 0;\n",
       "  clip: rect(1px 1px 1px 1px);\n",
       "  clip: rect(1px, 1px, 1px, 1px);\n",
       "  height: 1px;\n",
       "  margin: -1px;\n",
       "  overflow: hidden;\n",
       "  padding: 0;\n",
       "  position: absolute;\n",
       "  width: 1px;\n",
       "}\n",
       "\n",
       "#sk-container-id-1 div.sk-dashed-wrapped {\n",
       "  border: 1px dashed var(--sklearn-color-line);\n",
       "  margin: 0 0.4em 0.5em 0.4em;\n",
       "  box-sizing: border-box;\n",
       "  padding-bottom: 0.4em;\n",
       "  background-color: var(--sklearn-color-background);\n",
       "}\n",
       "\n",
       "#sk-container-id-1 div.sk-container {\n",
       "  /* jupyter's `normalize.less` sets `[hidden] { display: none; }`\n",
       "     but bootstrap.min.css set `[hidden] { display: none !important; }`\n",
       "     so we also need the `!important` here to be able to override the\n",
       "     default hidden behavior on the sphinx rendered scikit-learn.org.\n",
       "     See: https://github.com/scikit-learn/scikit-learn/issues/21755 */\n",
       "  display: inline-block !important;\n",
       "  position: relative;\n",
       "}\n",
       "\n",
       "#sk-container-id-1 div.sk-text-repr-fallback {\n",
       "  display: none;\n",
       "}\n",
       "\n",
       "div.sk-parallel-item,\n",
       "div.sk-serial,\n",
       "div.sk-item {\n",
       "  /* draw centered vertical line to link estimators */\n",
       "  background-image: linear-gradient(var(--sklearn-color-text-on-default-background), var(--sklearn-color-text-on-default-background));\n",
       "  background-size: 2px 100%;\n",
       "  background-repeat: no-repeat;\n",
       "  background-position: center center;\n",
       "}\n",
       "\n",
       "/* Parallel-specific style estimator block */\n",
       "\n",
       "#sk-container-id-1 div.sk-parallel-item::after {\n",
       "  content: \"\";\n",
       "  width: 100%;\n",
       "  border-bottom: 2px solid var(--sklearn-color-text-on-default-background);\n",
       "  flex-grow: 1;\n",
       "}\n",
       "\n",
       "#sk-container-id-1 div.sk-parallel {\n",
       "  display: flex;\n",
       "  align-items: stretch;\n",
       "  justify-content: center;\n",
       "  background-color: var(--sklearn-color-background);\n",
       "  position: relative;\n",
       "}\n",
       "\n",
       "#sk-container-id-1 div.sk-parallel-item {\n",
       "  display: flex;\n",
       "  flex-direction: column;\n",
       "}\n",
       "\n",
       "#sk-container-id-1 div.sk-parallel-item:first-child::after {\n",
       "  align-self: flex-end;\n",
       "  width: 50%;\n",
       "}\n",
       "\n",
       "#sk-container-id-1 div.sk-parallel-item:last-child::after {\n",
       "  align-self: flex-start;\n",
       "  width: 50%;\n",
       "}\n",
       "\n",
       "#sk-container-id-1 div.sk-parallel-item:only-child::after {\n",
       "  width: 0;\n",
       "}\n",
       "\n",
       "/* Serial-specific style estimator block */\n",
       "\n",
       "#sk-container-id-1 div.sk-serial {\n",
       "  display: flex;\n",
       "  flex-direction: column;\n",
       "  align-items: center;\n",
       "  background-color: var(--sklearn-color-background);\n",
       "  padding-right: 1em;\n",
       "  padding-left: 1em;\n",
       "}\n",
       "\n",
       "\n",
       "/* Toggleable style: style used for estimator/Pipeline/ColumnTransformer box that is\n",
       "clickable and can be expanded/collapsed.\n",
       "- Pipeline and ColumnTransformer use this feature and define the default style\n",
       "- Estimators will overwrite some part of the style using the `sk-estimator` class\n",
       "*/\n",
       "\n",
       "/* Pipeline and ColumnTransformer style (default) */\n",
       "\n",
       "#sk-container-id-1 div.sk-toggleable {\n",
       "  /* Default theme specific background. It is overwritten whether we have a\n",
       "  specific estimator or a Pipeline/ColumnTransformer */\n",
       "  background-color: var(--sklearn-color-background);\n",
       "}\n",
       "\n",
       "/* Toggleable label */\n",
       "#sk-container-id-1 label.sk-toggleable__label {\n",
       "  cursor: pointer;\n",
       "  display: flex;\n",
       "  width: 100%;\n",
       "  margin-bottom: 0;\n",
       "  padding: 0.5em;\n",
       "  box-sizing: border-box;\n",
       "  text-align: center;\n",
       "  align-items: start;\n",
       "  justify-content: space-between;\n",
       "  gap: 0.5em;\n",
       "}\n",
       "\n",
       "#sk-container-id-1 label.sk-toggleable__label .caption {\n",
       "  font-size: 0.6rem;\n",
       "  font-weight: lighter;\n",
       "  color: var(--sklearn-color-text-muted);\n",
       "}\n",
       "\n",
       "#sk-container-id-1 label.sk-toggleable__label-arrow:before {\n",
       "  /* Arrow on the left of the label */\n",
       "  content: \"▸\";\n",
       "  float: left;\n",
       "  margin-right: 0.25em;\n",
       "  color: var(--sklearn-color-icon);\n",
       "}\n",
       "\n",
       "#sk-container-id-1 label.sk-toggleable__label-arrow:hover:before {\n",
       "  color: var(--sklearn-color-text);\n",
       "}\n",
       "\n",
       "/* Toggleable content - dropdown */\n",
       "\n",
       "#sk-container-id-1 div.sk-toggleable__content {\n",
       "  max-height: 0;\n",
       "  max-width: 0;\n",
       "  overflow: hidden;\n",
       "  text-align: left;\n",
       "  /* unfitted */\n",
       "  background-color: var(--sklearn-color-unfitted-level-0);\n",
       "}\n",
       "\n",
       "#sk-container-id-1 div.sk-toggleable__content.fitted {\n",
       "  /* fitted */\n",
       "  background-color: var(--sklearn-color-fitted-level-0);\n",
       "}\n",
       "\n",
       "#sk-container-id-1 div.sk-toggleable__content pre {\n",
       "  margin: 0.2em;\n",
       "  border-radius: 0.25em;\n",
       "  color: var(--sklearn-color-text);\n",
       "  /* unfitted */\n",
       "  background-color: var(--sklearn-color-unfitted-level-0);\n",
       "}\n",
       "\n",
       "#sk-container-id-1 div.sk-toggleable__content.fitted pre {\n",
       "  /* unfitted */\n",
       "  background-color: var(--sklearn-color-fitted-level-0);\n",
       "}\n",
       "\n",
       "#sk-container-id-1 input.sk-toggleable__control:checked~div.sk-toggleable__content {\n",
       "  /* Expand drop-down */\n",
       "  max-height: 200px;\n",
       "  max-width: 100%;\n",
       "  overflow: auto;\n",
       "}\n",
       "\n",
       "#sk-container-id-1 input.sk-toggleable__control:checked~label.sk-toggleable__label-arrow:before {\n",
       "  content: \"▾\";\n",
       "}\n",
       "\n",
       "/* Pipeline/ColumnTransformer-specific style */\n",
       "\n",
       "#sk-container-id-1 div.sk-label input.sk-toggleable__control:checked~label.sk-toggleable__label {\n",
       "  color: var(--sklearn-color-text);\n",
       "  background-color: var(--sklearn-color-unfitted-level-2);\n",
       "}\n",
       "\n",
       "#sk-container-id-1 div.sk-label.fitted input.sk-toggleable__control:checked~label.sk-toggleable__label {\n",
       "  background-color: var(--sklearn-color-fitted-level-2);\n",
       "}\n",
       "\n",
       "/* Estimator-specific style */\n",
       "\n",
       "/* Colorize estimator box */\n",
       "#sk-container-id-1 div.sk-estimator input.sk-toggleable__control:checked~label.sk-toggleable__label {\n",
       "  /* unfitted */\n",
       "  background-color: var(--sklearn-color-unfitted-level-2);\n",
       "}\n",
       "\n",
       "#sk-container-id-1 div.sk-estimator.fitted input.sk-toggleable__control:checked~label.sk-toggleable__label {\n",
       "  /* fitted */\n",
       "  background-color: var(--sklearn-color-fitted-level-2);\n",
       "}\n",
       "\n",
       "#sk-container-id-1 div.sk-label label.sk-toggleable__label,\n",
       "#sk-container-id-1 div.sk-label label {\n",
       "  /* The background is the default theme color */\n",
       "  color: var(--sklearn-color-text-on-default-background);\n",
       "}\n",
       "\n",
       "/* On hover, darken the color of the background */\n",
       "#sk-container-id-1 div.sk-label:hover label.sk-toggleable__label {\n",
       "  color: var(--sklearn-color-text);\n",
       "  background-color: var(--sklearn-color-unfitted-level-2);\n",
       "}\n",
       "\n",
       "/* Label box, darken color on hover, fitted */\n",
       "#sk-container-id-1 div.sk-label.fitted:hover label.sk-toggleable__label.fitted {\n",
       "  color: var(--sklearn-color-text);\n",
       "  background-color: var(--sklearn-color-fitted-level-2);\n",
       "}\n",
       "\n",
       "/* Estimator label */\n",
       "\n",
       "#sk-container-id-1 div.sk-label label {\n",
       "  font-family: monospace;\n",
       "  font-weight: bold;\n",
       "  display: inline-block;\n",
       "  line-height: 1.2em;\n",
       "}\n",
       "\n",
       "#sk-container-id-1 div.sk-label-container {\n",
       "  text-align: center;\n",
       "}\n",
       "\n",
       "/* Estimator-specific */\n",
       "#sk-container-id-1 div.sk-estimator {\n",
       "  font-family: monospace;\n",
       "  border: 1px dotted var(--sklearn-color-border-box);\n",
       "  border-radius: 0.25em;\n",
       "  box-sizing: border-box;\n",
       "  margin-bottom: 0.5em;\n",
       "  /* unfitted */\n",
       "  background-color: var(--sklearn-color-unfitted-level-0);\n",
       "}\n",
       "\n",
       "#sk-container-id-1 div.sk-estimator.fitted {\n",
       "  /* fitted */\n",
       "  background-color: var(--sklearn-color-fitted-level-0);\n",
       "}\n",
       "\n",
       "/* on hover */\n",
       "#sk-container-id-1 div.sk-estimator:hover {\n",
       "  /* unfitted */\n",
       "  background-color: var(--sklearn-color-unfitted-level-2);\n",
       "}\n",
       "\n",
       "#sk-container-id-1 div.sk-estimator.fitted:hover {\n",
       "  /* fitted */\n",
       "  background-color: var(--sklearn-color-fitted-level-2);\n",
       "}\n",
       "\n",
       "/* Specification for estimator info (e.g. \"i\" and \"?\") */\n",
       "\n",
       "/* Common style for \"i\" and \"?\" */\n",
       "\n",
       ".sk-estimator-doc-link,\n",
       "a:link.sk-estimator-doc-link,\n",
       "a:visited.sk-estimator-doc-link {\n",
       "  float: right;\n",
       "  font-size: smaller;\n",
       "  line-height: 1em;\n",
       "  font-family: monospace;\n",
       "  background-color: var(--sklearn-color-background);\n",
       "  border-radius: 1em;\n",
       "  height: 1em;\n",
       "  width: 1em;\n",
       "  text-decoration: none !important;\n",
       "  margin-left: 0.5em;\n",
       "  text-align: center;\n",
       "  /* unfitted */\n",
       "  border: var(--sklearn-color-unfitted-level-1) 1pt solid;\n",
       "  color: var(--sklearn-color-unfitted-level-1);\n",
       "}\n",
       "\n",
       ".sk-estimator-doc-link.fitted,\n",
       "a:link.sk-estimator-doc-link.fitted,\n",
       "a:visited.sk-estimator-doc-link.fitted {\n",
       "  /* fitted */\n",
       "  border: var(--sklearn-color-fitted-level-1) 1pt solid;\n",
       "  color: var(--sklearn-color-fitted-level-1);\n",
       "}\n",
       "\n",
       "/* On hover */\n",
       "div.sk-estimator:hover .sk-estimator-doc-link:hover,\n",
       ".sk-estimator-doc-link:hover,\n",
       "div.sk-label-container:hover .sk-estimator-doc-link:hover,\n",
       ".sk-estimator-doc-link:hover {\n",
       "  /* unfitted */\n",
       "  background-color: var(--sklearn-color-unfitted-level-3);\n",
       "  color: var(--sklearn-color-background);\n",
       "  text-decoration: none;\n",
       "}\n",
       "\n",
       "div.sk-estimator.fitted:hover .sk-estimator-doc-link.fitted:hover,\n",
       ".sk-estimator-doc-link.fitted:hover,\n",
       "div.sk-label-container:hover .sk-estimator-doc-link.fitted:hover,\n",
       ".sk-estimator-doc-link.fitted:hover {\n",
       "  /* fitted */\n",
       "  background-color: var(--sklearn-color-fitted-level-3);\n",
       "  color: var(--sklearn-color-background);\n",
       "  text-decoration: none;\n",
       "}\n",
       "\n",
       "/* Span, style for the box shown on hovering the info icon */\n",
       ".sk-estimator-doc-link span {\n",
       "  display: none;\n",
       "  z-index: 9999;\n",
       "  position: relative;\n",
       "  font-weight: normal;\n",
       "  right: .2ex;\n",
       "  padding: .5ex;\n",
       "  margin: .5ex;\n",
       "  width: min-content;\n",
       "  min-width: 20ex;\n",
       "  max-width: 50ex;\n",
       "  color: var(--sklearn-color-text);\n",
       "  box-shadow: 2pt 2pt 4pt #999;\n",
       "  /* unfitted */\n",
       "  background: var(--sklearn-color-unfitted-level-0);\n",
       "  border: .5pt solid var(--sklearn-color-unfitted-level-3);\n",
       "}\n",
       "\n",
       ".sk-estimator-doc-link.fitted span {\n",
       "  /* fitted */\n",
       "  background: var(--sklearn-color-fitted-level-0);\n",
       "  border: var(--sklearn-color-fitted-level-3);\n",
       "}\n",
       "\n",
       ".sk-estimator-doc-link:hover span {\n",
       "  display: block;\n",
       "}\n",
       "\n",
       "/* \"?\"-specific style due to the `<a>` HTML tag */\n",
       "\n",
       "#sk-container-id-1 a.estimator_doc_link {\n",
       "  float: right;\n",
       "  font-size: 1rem;\n",
       "  line-height: 1em;\n",
       "  font-family: monospace;\n",
       "  background-color: var(--sklearn-color-background);\n",
       "  border-radius: 1rem;\n",
       "  height: 1rem;\n",
       "  width: 1rem;\n",
       "  text-decoration: none;\n",
       "  /* unfitted */\n",
       "  color: var(--sklearn-color-unfitted-level-1);\n",
       "  border: var(--sklearn-color-unfitted-level-1) 1pt solid;\n",
       "}\n",
       "\n",
       "#sk-container-id-1 a.estimator_doc_link.fitted {\n",
       "  /* fitted */\n",
       "  border: var(--sklearn-color-fitted-level-1) 1pt solid;\n",
       "  color: var(--sklearn-color-fitted-level-1);\n",
       "}\n",
       "\n",
       "/* On hover */\n",
       "#sk-container-id-1 a.estimator_doc_link:hover {\n",
       "  /* unfitted */\n",
       "  background-color: var(--sklearn-color-unfitted-level-3);\n",
       "  color: var(--sklearn-color-background);\n",
       "  text-decoration: none;\n",
       "}\n",
       "\n",
       "#sk-container-id-1 a.estimator_doc_link.fitted:hover {\n",
       "  /* fitted */\n",
       "  background-color: var(--sklearn-color-fitted-level-3);\n",
       "}\n",
       "</style><div id=\"sk-container-id-1\" class=\"sk-top-container\"><div class=\"sk-text-repr-fallback\"><pre>SVC(kernel=&#x27;precomputed&#x27;)</pre><b>In a Jupyter environment, please rerun this cell to show the HTML representation or trust the notebook. <br />On GitHub, the HTML representation is unable to render, please try loading this page with nbviewer.org.</b></div><div class=\"sk-container\" hidden><div class=\"sk-item\"><div class=\"sk-estimator fitted sk-toggleable\"><input class=\"sk-toggleable__control sk-hidden--visually\" id=\"sk-estimator-id-1\" type=\"checkbox\" checked><label for=\"sk-estimator-id-1\" class=\"sk-toggleable__label fitted sk-toggleable__label-arrow\"><div><div>SVC</div></div><div><a class=\"sk-estimator-doc-link fitted\" rel=\"noreferrer\" target=\"_blank\" href=\"https://scikit-learn.org/1.6/modules/generated/sklearn.svm.SVC.html\">?<span>Documentation for SVC</span></a><span class=\"sk-estimator-doc-link fitted\">i<span>Fitted</span></span></div></label><div class=\"sk-toggleable__content fitted\"><pre>SVC(kernel=&#x27;precomputed&#x27;)</pre></div> </div></div></div></div>"
      ],
      "text/plain": [
       "SVC(kernel='precomputed')"
      ]
     },
     "execution_count": 14,
     "metadata": {},
     "output_type": "execute_result"
    }
   ],
   "source": [
    "# Create a quantum kernel\n",
    "ansatz = Ansatz(n_features=4, n_qubits=4, n_operations=4)\n",
    "ansatz.initialize_to_identity()\n",
    "# create a circular entanglement circuit\n",
    "ansatz.change_operation(0, new_feature=0, new_wires=[0, 1], new_generator=\"XX\", new_bandwidth=0.9)\n",
    "ansatz.change_operation(1, new_feature=1, new_wires=[1, 2], new_generator=\"XX\", new_bandwidth=0.9)\n",
    "ansatz.change_operation(2, new_feature=2, new_wires=[2, 3], new_generator=\"XX\", new_bandwidth=0.9)\n",
    "ansatz.change_operation(3, new_feature=3, new_wires=[3, 0], new_generator=\"XX\", new_bandwidth=0.9)\n",
    "# remember we set the kernel with the 'qiskit_noiseless' implementation\n",
    "kernel = KernelFactory.create_kernel(ansatz, \"ZZZZ\", KernelType.FIDELITY)\n",
    "\n",
    "# Fit the model to the training data\n",
    "K_train = kernel.build_kernel(X_train, X_train)\n",
    "model.fit(K_train, y_train)"
   ]
  },
  {
   "cell_type": "markdown",
   "id": "d166a82e-be7b-49b7-90ed-a992bcfda082",
   "metadata": {},
   "source": [
    "We then use the model to predict the label of elements in the testing set. Again, we need to create the kernel Gram matrix of the elements in the testing set. "
   ]
  },
  {
   "cell_type": "code",
   "execution_count": 15,
   "id": "8d31ead9-007d-48a6-869f-757e5149ca85",
   "metadata": {},
   "outputs": [],
   "source": [
    "# Predict the labels for the test data\n",
    "K_test = kernel.build_kernel(X_test, X_train)\n",
    "y_pred = model.predict(K_test)"
   ]
  },
  {
   "cell_type": "markdown",
   "id": "522071c2-5755-489b-bdf4-7418ac1b2af2",
   "metadata": {},
   "source": [
    "Finally, we can calculate the accuracy with respect to the testing set."
   ]
  },
  {
   "cell_type": "code",
   "execution_count": 16,
   "id": "6b8ff0e5-d8ca-4a9e-b724-64df7e17f6be",
   "metadata": {},
   "outputs": [
    {
     "name": "stdout",
     "output_type": "stream",
     "text": [
      "Accuracy: 0.9\n"
     ]
    }
   ],
   "source": [
    "# Calculate the accuracy\n",
    "accuracy = np.sum(y_test == y_pred) / len(y_test)\n",
    "print(\"Accuracy:\", accuracy)"
   ]
  },
  {
   "cell_type": "markdown",
   "id": "e79c8191-1a01-4bc7-b82c-83a357494ba2",
   "metadata": {},
   "source": [
    "Among the features of _quask_ is the ability to evaluate the kernel according to criteria known in the literature. We demonstrate one possible method for evaluating our quantum kernel with respect to the Centered Kernel Target Alignment. The lower the cost, the better the kernel is suited for the task.\n"
   ]
  },
  {
   "cell_type": "code",
   "execution_count": 17,
   "id": "4995cefe-2b79-405a-8371-e82f9bcfcad7",
   "metadata": {},
   "outputs": [
    {
     "name": "stdout",
     "output_type": "stream",
     "text": [
      "The cost for training kernel according to the Centered-KTA is: -0.26109096985312397\n",
      "The cost for testing kernel according to the Centered-KTA is: -0.1688507888426581\n"
     ]
    }
   ],
   "source": [
    "from quask.evaluator import CenteredKernelAlignmentEvaluator\n",
    "\n",
    "ce = CenteredKernelAlignmentEvaluator()\n",
    "cost_tr = ce.evaluate(None, K_train, X_train, y_train)\n",
    "cost_te = ce.evaluate(None, K_test, X_test, y_test)\n",
    "print(\"The cost for training kernel according to the Centered-KTA is:\", cost_tr)\n",
    "print(\"The cost for testing kernel according to the Centered-KTA is:\", cost_te)"
   ]
  }
 ],
 "metadata": {
  "kernelspec": {
   "display_name": ".venv",
   "language": "python",
   "name": "python3"
  },
  "language_info": {
   "codemirror_mode": {
    "name": "ipython",
    "version": 3
   },
   "file_extension": ".py",
   "mimetype": "text/x-python",
   "name": "python",
   "nbconvert_exporter": "python",
   "pygments_lexer": "ipython3",
   "version": "3.11.11+"
  }
 },
 "nbformat": 4,
 "nbformat_minor": 5
}
